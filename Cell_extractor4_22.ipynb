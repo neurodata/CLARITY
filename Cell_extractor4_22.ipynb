{
 "cells": [
  {
   "cell_type": "code",
   "execution_count": 98,
   "metadata": {},
   "outputs": [],
   "source": [
    "### Prerna Singh\n",
    "# \n",
    "# Isolate cell regions and non-cell regions for given 3D sliced Clarity images of the brain\n",
    "# Use a brain-wide illumination correction for intensity\n",
    "# Extract 10x the non-cell data than cell data by selecting points within 20 pixels x y and z of cells\n",
    "#\n",
    "\n",
    "#import scipy.io\n",
    "import numpy as np\n",
    "import os\n",
    "import PIL\n",
    "from PIL import Image\n",
    "import matplotlib.pyplot as plt\n",
    "import random\n",
    "import csv\n",
    "import pandas as pd\n",
    "import cv2"
   ]
  },
  {
   "cell_type": "code",
   "execution_count": 99,
   "metadata": {},
   "outputs": [],
   "source": [
    "#image source path\n",
    "file_path_img = os.path.join('12L_bias_corrected')\n",
    "list = os.listdir(file_path_img)"
   ]
  },
  {
   "cell_type": "code",
   "execution_count": 100,
   "metadata": {},
   "outputs": [
    {
     "name": "stdout",
     "output_type": "stream",
     "text": [
      "Total number of CellRegions:  190\n"
     ]
    }
   ],
   "source": [
    "#preprocess the csv with file labels\n",
    "fileLabelCSV = pd.read_csv('ENTANGLtrainingdata/E12L-training.csv')\n",
    "\n",
    "#make ordered lists of each coordinate dimension\n",
    "xfileLabelCSV=(fileLabelCSV['Center of Mass (Geometry): X (px)']).to_list()\n",
    "yfileLabelCSV=(fileLabelCSV['Center of Mass (Geometry): Y (px)']).to_list()\n",
    "zfileLabelCSV=(fileLabelCSV['Center of Mass (Geometry): Z (px)']).to_list()\n",
    "      \n",
    "ROI = np.zeros((len(xfileLabelCSV),12,12,12))\n",
    "\n",
    "#measured cells on neuroglancer and found that none were over 10 voxels\n",
    "#create a list of ranges +-6 from the cell coordinate that are invalid when accumulating non-cell regions\n",
    "x_invalid=[]\n",
    "y_invalid=[]\n",
    "z_invalid=[]\n",
    "for index0 in range(0,len(xfileLabelCSV)):\n",
    "    voxel = np.zeros((12,12,12))\n",
    "    #current coordinates\n",
    "    xcoord = int(xfileLabelCSV[index0])\n",
    "    ycoord = int(yfileLabelCSV[index0])\n",
    "    zcoord = int(zfileLabelCSV[index0])\n",
    "    \n",
    "    #for the ncrs\n",
    "    x_invalid+=[*range(int(xfileLabelCSV[index0])-6,int(xfileLabelCSV[index0])+6)]\n",
    "    y_invalid+=[*range(int(yfileLabelCSV[index0])-6,int(yfileLabelCSV[index0])+6)]\n",
    "    z_invalid+=[*range(int(zfileLabelCSV[index0])-6,int(zfileLabelCSV[index0])+6)]\n",
    "    \n",
    "    \n",
    "    #for every z, append the x&ys\n",
    "    for index, i in enumerate(range(zcoord-6,zcoord+6)):\n",
    "        for file in list:\n",
    "            if str(\"tif\") in str(file):\n",
    "                if len(str(i))==1:\n",
    "                    i=str(\"000\"+str(i))\n",
    "                if len(str(i))==2:\n",
    "                    i=str(\"00\"+str(i))\n",
    "                if len(str(i))==3:\n",
    "                    i=str(\"0\"+str(i))\n",
    "                if str(i) in str(file).split(\"_\")[7]:\n",
    "                    scan1 = np.asarray(Image.open(file_path_img + '/'+file))\n",
    "                    scan = np.zeros(scan1.shape)\n",
    "                    scan = cv2.normalize(scan1,scan, 0, 255, cv2.NORM_MINMAX)\n",
    "                    plane = scan[xcoord-6:xcoord+6,ycoord-6:ycoord+6]\n",
    "                    #plt.imshow(plane)\n",
    "                    #plt.show()\n",
    "        voxel[index]=np.asarray(plane)\n",
    "    ROI[index0]=np.asarray(voxel)\n",
    "\n",
    "print('Total number of CellRegions: ', len(zfileLabelCSV))"
   ]
  },
  {
   "cell_type": "code",
   "execution_count": 101,
   "metadata": {},
   "outputs": [],
   "source": [
    "np.save('ROI12L_bias_corrected.npy', ROI)"
   ]
  },
  {
   "cell_type": "code",
   "execution_count": 102,
   "metadata": {},
   "outputs": [],
   "source": [
    "#export cell coordinates as .npy\n",
    "xcoordinate=(fileLabelCSV['Center of Mass (Geometry): X (px)']).to_numpy()\n",
    "ycoordinate=(fileLabelCSV['Center of Mass (Geometry): Y (px)']).to_numpy()\n",
    "zcoordinate=(fileLabelCSV['Center of Mass (Geometry): Z (px)']).to_numpy()"
   ]
  },
  {
   "cell_type": "code",
   "execution_count": 103,
   "metadata": {},
   "outputs": [
    {
     "name": "stdout",
     "output_type": "stream",
     "text": [
      "1900 non-CMB regions were isolated. Adding to the master dictionary.\n"
     ]
    }
   ],
   "source": [
    "#number of non-coding regions we want to isolate, lets say 515, same as number of cell regions\n",
    "nNCMB = len(zfileLabelCSV)*10\n",
    "NCR = []\n",
    "\n",
    "#have 11 different coordinates for 1 non-cell region\n",
    "for index0 in range(0,len(xfileLabelCSV)):\n",
    "    #current coordinates\n",
    "    xcoord = int(xfileLabelCSV[index0])\n",
    "    ycoord = int(yfileLabelCSV[index0])\n",
    "    zcoord = int(zfileLabelCSV[index0])\n",
    "    ncrcell=[]\n",
    "    while (len(ncrcell)) < 10:\n",
    "        x_random = random.randint(7,20)\n",
    "        y_random = random.randint(7,20)\n",
    "        z_random = random.randint(7,20)\n",
    "        #proceed =1\n",
    "        #print(\"Random x,y,z for Non CMB Region:\", x_random,y_random,z_random)\n",
    "\n",
    "        #for i in x_invalid:\n",
    "        #    if x_random == i:\n",
    "        #        #print('x_false')\n",
    "        #        proceed = 0\n",
    "        #for i in y_invalid:\n",
    "        #    if y_random == i:\n",
    "        #        #print('y_false')\n",
    "        #        proceed = 0\n",
    "        #for i in z_invalid:\n",
    "        #    if z_random == i:\n",
    "        #        #print('z_false')\n",
    "        #        proceed = 0\n",
    "        if len(ncrcell) %8==0:\n",
    "            #print(\"proceeding\")\n",
    "            ncrcell.append([xcoord+x_random,ycoord+y_random,zcoord+z_random])\n",
    "        elif len(ncrcell) %8==1:\n",
    "            #print(\"proceeding\")\n",
    "            ncrcell.append([xcoord-x_random,ycoord+y_random,zcoord+z_random])\n",
    "        elif len(ncrcell) %8==2:\n",
    "            #print(\"proceeding\")\n",
    "            ncrcell.append([xcoord+x_random,ycoord-y_random,zcoord+z_random])\n",
    "        elif len(ncrcell) %8==3:\n",
    "            #print(\"proceeding\")\n",
    "            ncrcell.append([xcoord+x_random,ycoord+y_random,zcoord-z_random])\n",
    "        elif len(ncrcell) %8==4:\n",
    "            #print(\"proceeding\")\n",
    "            ncrcell.append([xcoord+x_random,ycoord-y_random,zcoord-z_random])\n",
    "        elif len(ncrcell) %8==5:\n",
    "            #print(\"proceeding\")\n",
    "            ncrcell.append([xcoord-x_random,ycoord+y_random,zcoord-z_random])\n",
    "        elif len(ncrcell) %8==6:\n",
    "            #print(\"proceeding\")\n",
    "            ncrcell.append([xcoord-x_random,ycoord-y_random,zcoord+z_random])\n",
    "        else:\n",
    "            ncrcell.append([xcoord-x_random,ycoord-y_random,zcoord-z_random])\n",
    "    for i in ncrcell:\n",
    "        NCR.append(i)\n",
    "    #print(len(NCR))\n",
    "print(\"%s non-CMB regions were isolated.\" %(len(NCR)), \"Adding to the master dictionary.\")"
   ]
  },
  {
   "cell_type": "code",
   "execution_count": 104,
   "metadata": {},
   "outputs": [],
   "source": [
    "NCR_total = np.zeros((len(NCR),12,12,12))\n",
    "\n",
    "for index0 in range(0,len(NCR)):\n",
    "    voxel = np.zeros((12,12,12))\n",
    "    \n",
    "    #current coordinates\n",
    "    xcoord = int(NCR[index0][0])\n",
    "    ycoord = int(NCR[index0][1])\n",
    "    zcoord = int(NCR[index0][2])\n",
    "\n",
    "    #for every z, append the x&ys\n",
    "    for index,i in enumerate(range(zcoord-6,zcoord+6)):\n",
    "        for file in list:\n",
    "            if str(\"tif\") in str(file):\n",
    "                if len(str(i))==1:\n",
    "                    i=str(\"000\"+str(i))\n",
    "                if len(str(i))==2:\n",
    "                    i=str(\"00\"+str(i))\n",
    "                if len(str(i))==3:\n",
    "                    i=str(\"0\"+str(i))\n",
    "                if str(i) in str(file).split(\"_\")[7]:\n",
    "                    scan1 = np.asarray(Image.open(file_path_img + '/'+file))\n",
    "                    scan = np.zeros(scan1.shape)\n",
    "                    scan = cv2.normalize(scan1,scan, 0, 255, cv2.NORM_MINMAX)\n",
    "                    plane = scan[xcoord-6:xcoord+6,ycoord-6:ycoord+6]\n",
    "        voxel[index] = np.asarray(plane)\n",
    "    NCR_total[index0]=np.asarray(voxel)"
   ]
  },
  {
   "cell_type": "code",
   "execution_count": 105,
   "metadata": {},
   "outputs": [],
   "source": [
    "np.save('NCR12L_bias_correctedjere.npy',np.asarray(NCR_total))"
   ]
  },
  {
   "cell_type": "code",
   "execution_count": 106,
   "metadata": {},
   "outputs": [
    {
     "data": {
      "text/plain": [
       "[1459, 796, 380]"
      ]
     },
     "execution_count": 106,
     "metadata": {},
     "output_type": "execute_result"
    }
   ],
   "source": [
    "NCR[2]"
   ]
  },
  {
   "cell_type": "code",
   "execution_count": 107,
   "metadata": {},
   "outputs": [
    {
     "data": {
      "image/png": "[encoded data removed]",
      "text/plain": [
       "<Figure size 432x288 with 1 Axes>"
      ]
     },
     "metadata": {
      "needs_background": "light"
     },
     "output_type": "display_data"
    }
   ],
   "source": [
    "plt.imshow(scan[NCR[34][0]-30:NCR[34][0]+30,NCR[34][1]-30:NCR[34][1]+30])\n",
    "plt.show()"
   ]
  },
  {
   "cell_type": "code",
   "execution_count": 108,
   "metadata": {},
   "outputs": [
    {
     "data": {
      "text/plain": [
       "<matplotlib.image.AxesImage at 0x2b9d23ef2f10>"
      ]
     },
     "execution_count": 108,
     "metadata": {},
     "output_type": "execute_result"
    },
    {
     "data": {
      "image/png": "[encoded data removed]",
      "text/plain": [
       "<Figure size 432x288 with 1 Axes>"
      ]
     },
     "metadata": {
      "needs_background": "light"
     },
     "output_type": "display_data"
    }
   ],
   "source": [
    "plt.imshow(NCR_total[34][5])"
   ]
  },
  {
   "cell_type": "code",
   "execution_count": null,
   "metadata": {},
   "outputs": [],
   "source": []
  }
 ],
 "metadata": {
  "kernelspec": {
   "display_name": "Python [conda env:Prerna]",
   "language": "python",
   "name": "conda-env-Prerna-py"
  },
  "language_info": {
   "codemirror_mode": {
    "name": "ipython",
    "version": 3
   },
   "file_extension": ".py",
   "mimetype": "text/x-python",
   "name": "python",
   "nbconvert_exporter": "python",
   "pygments_lexer": "ipython3",
   "version": "3.7.5"
  }
 },
 "nbformat": 4,
 "nbformat_minor": 2
}
